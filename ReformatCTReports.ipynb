{
 "cells": [
  {
   "cell_type": "code",
   "execution_count": 2,
   "metadata": {
    "collapsed": false,
    "deletable": true,
    "editable": true
   },
   "outputs": [
    {
     "data": {
      "text/plain": [
       "['/vol/medic02/users/ag6516/miniconda/envs/TensorFlowCPU/lib/python2.7/site-packages/IPython/extensions',\n",
       " '/vol/medic02/users/ag6516/miniconda/envs/TensorFlowCPU/lib/python2.7/site-packages/setuptools-27.2.0-py2.7.egg',\n",
       " '/vol/medic02/users/ag6516/miniconda/envs/TensorFlowCPU/lib/python2.7/site-packages',\n",
       " '',\n",
       " '/vol/medic02/users/ag6516/miniconda/envs/TensorFlowCPU/lib/python27.zip',\n",
       " '/vol/medic02/users/ag6516/miniconda/envs/TensorFlowCPU/lib/python2.7',\n",
       " '/vol/medic02/users/ag6516/miniconda/envs/TensorFlowCPU/lib/python2.7/plat-linux2',\n",
       " '/vol/medic02/users/ag6516/miniconda/envs/TensorFlowCPU/lib/python2.7/lib-tk',\n",
       " '/vol/medic02/users/ag6516/miniconda/envs/TensorFlowCPU/lib/python2.7/lib-old',\n",
       " '/vol/medic02/users/ag6516/miniconda/envs/TensorFlowCPU/lib/python2.7/lib-dynload',\n",
       " '/homes/ag6516/.local/lib/python2.7/site-packages',\n",
       " '/vol/medic02/users/ag6516/miniconda/envs/TensorFlowCPU/lib/python2.7/site-packages',\n",
       " '/vol/medic02/users/ag6516/miniconda/envs/TensorFlowCPU/lib/python2.7/site-packages/PIL',\n",
       " '/vol/medic02/users/ag6516/miniconda/envs/TensorFlowCPU/lib/python2.7/site-packages/IPython/extensions',\n",
       " '/homes/ag6516/.ipython']"
      ]
     },
     "execution_count": 2,
     "metadata": {},
     "output_type": "execute_result"
    }
   ],
   "source": [
    "# Set local python and nltk paths\n",
    "import sys\n",
    "sys.path.insert(0,'/vol/medic02/users/ag6516/miniconda/envs/TensorFlowCPU/lib/python2.7/site-packages')\n",
    "sys.path.insert(0,'/vol/medic02/users/ag6516/miniconda/envs/TensorFlowCPU/lib/python2.7/site-packages/setuptools-27.2.0-py2.7.egg')\n",
    "sys.path.insert(0,'/vol/medic02/users/ag6516/miniconda/envs/TensorFlowCPU/lib/python2.7/site-packages/IPython/extensions')\n",
    "sys.path\n",
    "# import nltk\n",
    "# nltk.data.path = ['/vol/medic02/users/ag6516/nltk_data']\n",
    "# sys.path.insert(0,'/vol/medic02/users/ag6516/negex/negex.python')"
   ]
  },
  {
   "cell_type": "code",
   "execution_count": 3,
   "metadata": {
    "collapsed": true,
    "deletable": true,
    "editable": true
   },
   "outputs": [],
   "source": [
    "import os\n",
    "import csv\n",
    "import json\n",
    "import pickle\n",
    "import pandas as pd\n",
    "import math"
   ]
  },
  {
   "cell_type": "code",
   "execution_count": 5,
   "metadata": {
    "collapsed": false,
    "deletable": true,
    "editable": true
   },
   "outputs": [],
   "source": [
    "dir = ('/vol/medic02/users/ag6516/brain_ct/data/outputs/')\n",
    "# dir = ('/Users/Aydan/PhD/x_ray_fracture_localisation/')\n",
    "df = pd.read_csv(dir + 'Reports_Sample.csv')"
   ]
  },
  {
   "cell_type": "code",
   "execution_count": 6,
   "metadata": {
    "collapsed": false,
    "deletable": true,
    "editable": true
   },
   "outputs": [
    {
     "name": "stdout",
     "output_type": "stream",
     "text": [
      "['Anonomised ID:' 'Unnamed: 1' 'Date and Time of precise onset'\n",
      " 'S1AgeOnArrival' 'S1Gender' 'S2NihssArrival' 'CT TIME'\n",
      " 'Precise Onset till CT Time (hh:mm)' 'Same but minutes' 'CT REPORT']\n",
      "Anonomised ID:                        949\n",
      "Unnamed: 1                            100\n",
      "Date and Time of precise onset        949\n",
      "S1AgeOnArrival                        947\n",
      "S1Gender                              949\n",
      "S2NihssArrival                        909\n",
      "CT TIME                               949\n",
      "Precise Onset till CT Time (hh:mm)    949\n",
      "Same but minutes                      949\n",
      "CT REPORT                             688\n",
      "dtype: int64\n"
     ]
    },
    {
     "data": {
      "text/html": [
       "<div>\n",
       "<style>\n",
       "    .dataframe thead tr:only-child th {\n",
       "        text-align: right;\n",
       "    }\n",
       "\n",
       "    .dataframe thead th {\n",
       "        text-align: left;\n",
       "    }\n",
       "\n",
       "    .dataframe tbody tr th {\n",
       "        vertical-align: top;\n",
       "    }\n",
       "</style>\n",
       "<table border=\"1\" class=\"dataframe\">\n",
       "  <thead>\n",
       "    <tr style=\"text-align: right;\">\n",
       "      <th></th>\n",
       "      <th>Anonomised ID:</th>\n",
       "      <th>Unnamed: 1</th>\n",
       "      <th>Date and Time of precise onset</th>\n",
       "      <th>S1AgeOnArrival</th>\n",
       "      <th>S1Gender</th>\n",
       "      <th>S2NihssArrival</th>\n",
       "      <th>CT TIME</th>\n",
       "      <th>Precise Onset till CT Time (hh:mm)</th>\n",
       "      <th>Same but minutes</th>\n",
       "      <th>CT REPORT</th>\n",
       "    </tr>\n",
       "  </thead>\n",
       "  <tbody>\n",
       "    <tr>\n",
       "      <th>0</th>\n",
       "      <td>CHNT0001</td>\n",
       "      <td>NaN</td>\n",
       "      <td>1/22/2018 14:30</td>\n",
       "      <td>79.0</td>\n",
       "      <td>M</td>\n",
       "      <td>2</td>\n",
       "      <td>1/22/2018 19:49</td>\n",
       "      <td>0:05:19</td>\n",
       "      <td>319.0</td>\n",
       "      <td>NaN</td>\n",
       "    </tr>\n",
       "    <tr>\n",
       "      <th>1</th>\n",
       "      <td>CHNT0002</td>\n",
       "      <td>NaN</td>\n",
       "      <td>1/19/2018 8:00</td>\n",
       "      <td>76.0</td>\n",
       "      <td>M</td>\n",
       "      <td>2</td>\n",
       "      <td>1/20/2018 1:55</td>\n",
       "      <td>0:17:55</td>\n",
       "      <td>1075.0</td>\n",
       "      <td>REPORT TEXT START ========== \\n\\nThis is the F...</td>\n",
       "    </tr>\n",
       "    <tr>\n",
       "      <th>2</th>\n",
       "      <td>CHNT0003</td>\n",
       "      <td>NaN</td>\n",
       "      <td>1/5/2018 15:00</td>\n",
       "      <td>84.0</td>\n",
       "      <td>M</td>\n",
       "      <td>23</td>\n",
       "      <td>1/6/2018 2:43</td>\n",
       "      <td>0:11:43</td>\n",
       "      <td>703.0</td>\n",
       "      <td>REPORT TEXT START ========== \\n\\nThis is the F...</td>\n",
       "    </tr>\n",
       "    <tr>\n",
       "      <th>3</th>\n",
       "      <td>CHNT0004</td>\n",
       "      <td>NaN</td>\n",
       "      <td>1/2/2018 8:00</td>\n",
       "      <td>51.0</td>\n",
       "      <td>M</td>\n",
       "      <td>5</td>\n",
       "      <td>1/3/2018 2:05</td>\n",
       "      <td>0:18:05</td>\n",
       "      <td>1085.0</td>\n",
       "      <td>REPORT TEXT START ========== \\n\\nThis is the F...</td>\n",
       "    </tr>\n",
       "    <tr>\n",
       "      <th>4</th>\n",
       "      <td>CHNT0005</td>\n",
       "      <td>NaN</td>\n",
       "      <td>12/20/2017 9:42</td>\n",
       "      <td>48.0</td>\n",
       "      <td>M</td>\n",
       "      <td>20</td>\n",
       "      <td>12/20/2017 17:07</td>\n",
       "      <td>0:07:25</td>\n",
       "      <td>445.0</td>\n",
       "      <td>NaN</td>\n",
       "    </tr>\n",
       "  </tbody>\n",
       "</table>\n",
       "</div>"
      ],
      "text/plain": [
       "  Anonomised ID: Unnamed: 1 Date and Time of precise onset  S1AgeOnArrival  \\\n",
       "0       CHNT0001        NaN                1/22/2018 14:30            79.0   \n",
       "1       CHNT0002        NaN                 1/19/2018 8:00            76.0   \n",
       "2       CHNT0003        NaN                 1/5/2018 15:00            84.0   \n",
       "3       CHNT0004        NaN                  1/2/2018 8:00            51.0   \n",
       "4       CHNT0005        NaN                12/20/2017 9:42            48.0   \n",
       "\n",
       "  S1Gender S2NihssArrival           CT TIME  \\\n",
       "0        M              2   1/22/2018 19:49   \n",
       "1        M              2    1/20/2018 1:55   \n",
       "2        M             23     1/6/2018 2:43   \n",
       "3        M              5     1/3/2018 2:05   \n",
       "4        M             20  12/20/2017 17:07   \n",
       "\n",
       "  Precise Onset till CT Time (hh:mm)  Same but minutes  \\\n",
       "0                            0:05:19             319.0   \n",
       "1                            0:17:55            1075.0   \n",
       "2                            0:11:43             703.0   \n",
       "3                            0:18:05            1085.0   \n",
       "4                            0:07:25             445.0   \n",
       "\n",
       "                                           CT REPORT  \n",
       "0                                                NaN  \n",
       "1  REPORT TEXT START ========== \\n\\nThis is the F...  \n",
       "2  REPORT TEXT START ========== \\n\\nThis is the F...  \n",
       "3  REPORT TEXT START ========== \\n\\nThis is the F...  \n",
       "4                                                NaN  "
      ]
     },
     "execution_count": 6,
     "metadata": {},
     "output_type": "execute_result"
    }
   ],
   "source": [
    "print df.columns.values\n",
    "print df.count()\n",
    "#df.set_index('Anon ID', inplace=True)\n",
    "df.head()"
   ]
  },
  {
   "cell_type": "code",
   "execution_count": 17,
   "metadata": {
    "collapsed": false,
    "deletable": true,
    "editable": true
   },
   "outputs": [
    {
     "name": "stdout",
     "output_type": "stream",
     "text": [
      "647 514 52 1 67\n"
     ]
    }
   ],
   "source": [
    "chnt_count = 0\n",
    "ct_count = 0\n",
    "conc_count = 0\n",
    "head_count = 0\n",
    "angio_count = 0\n",
    "characters = 0\n",
    "report_len_count = []\n",
    "with open('reports_sample.txt', 'a') as new_file:\n",
    "    for i, exam in df.iterrows():\n",
    "        #if characters >= 50000:\n",
    "        #    break\n",
    "        if 'CHNT' in exam['Anonomised ID:']:\n",
    "            chnt_count+=1\n",
    "            if not pd.isnull(exam['CT REPORT']):\n",
    "                report_len_count.append(len(exam['CT REPORT'].split(' ')))\n",
    "                ct_count+=1\n",
    "                new_file.write('\\n\\n' + exam['Anonomised ID:'] + ': ')\n",
    "                for line in exam['CT REPORT'].split('\\n'):\n",
    "                    if line.rstrip():\n",
    "                        new_file.write(line)\n",
    "                # characters += len(exam['Anonomised ID:'])\n",
    "                # characters += len(exam['CT REPORT'])\n",
    "                if 'Conclusion' in exam['CT REPORT']:\n",
    "                    conc_count+=1\n",
    "                if 'HEAD' in exam['CT REPORT']:\n",
    "                    head_count+=1\n",
    "                if 'Angio' in exam['CT REPORT']:\n",
    "                    angio_count+=1   \n",
    "print chnt_count, ct_count, conc_count, head_count, angio_count"
   ]
  },
  {
   "cell_type": "code",
   "execution_count": 16,
   "metadata": {
    "collapsed": false
   },
   "outputs": [
    {
     "name": "stdout",
     "output_type": "stream",
     "text": [
      "138.953307393 83.9028398551\n"
     ]
    }
   ],
   "source": [
    "import numpy as np\n",
    "arr = np.array(report_len_count)\n",
    "\n",
    "print np.mean(arr), np.std(arr)"
   ]
  },
  {
   "cell_type": "code",
   "execution_count": 8,
   "metadata": {
    "collapsed": false,
    "deletable": true,
    "editable": true
   },
   "outputs": [
    {
     "name": "stdout",
     "output_type": "stream",
     "text": [
      "5\n",
      "7\n",
      "15\n",
      "5\n",
      "3\n",
      "31\n",
      "2\n",
      "9\n",
      "44\n",
      "2\n",
      "11\n",
      "10\n",
      "14\n",
      "2\n",
      "9\n",
      "3\n",
      "6\n",
      "10\n",
      "10\n",
      "14\n",
      "6\n"
     ]
    }
   ],
   "source": [
    "#print df['CT REPORT'][1]\n",
    "\n",
    "for line in df['CT REPORT'][1].split('\\n'):\n",
    "                    if line.rstrip():\n",
    "                        print len(line.split(' '))"
   ]
  },
  {
   "cell_type": "code",
   "execution_count": null,
   "metadata": {
    "collapsed": true,
    "deletable": true,
    "editable": true
   },
   "outputs": [],
   "source": [
    "for line in df['CT REPORT'][1].split('\\n'):\n",
    "                    if line.rstrip():\n",
    "                        print len(line.split(' '))"
   ]
  }
 ],
 "metadata": {
  "kernelspec": {
   "display_name": "Python [conda env:TensorFlowCPU]",
   "language": "python",
   "name": "conda-env-TensorFlowCPU-py"
  },
  "language_info": {
   "codemirror_mode": {
    "name": "ipython",
    "version": 2
   },
   "file_extension": ".py",
   "mimetype": "text/x-python",
   "name": "python",
   "nbconvert_exporter": "python",
   "pygments_lexer": "ipython2",
   "version": "2.7.14"
  }
 },
 "nbformat": 4,
 "nbformat_minor": 2
}
