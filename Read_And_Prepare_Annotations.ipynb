{
 "cells": [
  {
   "cell_type": "code",
   "execution_count": 14,
   "metadata": {
    "collapsed": false,
    "deletable": true,
    "editable": true
   },
   "outputs": [],
   "source": [
    "import sys\n",
    "sys.path.insert(0,'/vol/medic02/users/ag6516/miniconda/envs/TensorFlowCPU/lib/python2.7/site-packages')\n",
    "sys.path.insert(0,'/vol/medic02/users/ag6516/miniconda/envs/TensorFlowCPU/lib/python2.7/site-packages/setuptools-27.2.0-py2.7.egg')\n",
    "sys.path.insert(0,'/vol/medic02/users/ag6516/miniconda/envs/TensorFlowCPU/lib/python2.7/site-packages/IPython/extensions')"
   ]
  },
  {
   "cell_type": "code",
   "execution_count": 2,
   "metadata": {
    "collapsed": false
   },
   "outputs": [],
   "source": [
    "import pandas as pd\n",
    "from pandas import DataFrame as df\n",
    "import json\n",
    "import re\n",
    "pd.set_option('display.max_columns', -1)\n",
    "pd.options.display.max_rows = 4000"
   ]
  },
  {
   "cell_type": "code",
   "execution_count": 3,
   "metadata": {
    "collapsed": true,
    "deletable": true,
    "editable": true
   },
   "outputs": [],
   "source": [
    "dir = ('/vol/medic02/users/ag6516/brain_ct/data/')"
   ]
  },
  {
   "cell_type": "code",
   "execution_count": 4,
   "metadata": {
    "collapsed": false
   },
   "outputs": [],
   "source": [
    "annotations = [json.loads(line.rstrip('\\n')) for line in open('Brain_CTs_Classification.json')]"
   ]
  },
  {
   "cell_type": "code",
   "execution_count": 5,
   "metadata": {
    "collapsed": false
   },
   "outputs": [],
   "source": [
    "def get_df_row(ann):\n",
    "    ann_id = ann['content'].split(' ')[0].rstrip(':')\n",
    "    assert 'CHNT' in ann_id\n",
    "    raw_content = ann['content']\n",
    "    labels = ann['annotation']['labels']\n",
    "    return ann_id, raw_content, labels"
   ]
  },
  {
   "cell_type": "code",
   "execution_count": 6,
   "metadata": {
    "collapsed": false
   },
   "outputs": [],
   "source": [
    "array = [get_df_row(ann) for ann in annotations]\n",
    "ann_df = df(array, columns = ['id', 'raw_content', 'labels'])"
   ]
  },
  {
   "cell_type": "code",
   "execution_count": 12,
   "metadata": {
    "collapsed": false
   },
   "outputs": [],
   "source": [
    "def basic_filt(ann):\n",
    "    filtered_report = ann.lower()\n",
    "    filtered_report = filtered_report.replace('.', ' . ')\n",
    "    filtered_report = filtered_report.replace('authorised', ' authorised')\n",
    "    return filtered_report\n",
    "\n",
    "def extract_addendum(ann):\n",
    "    match = re.search('(?<=addendum :)(.*$)', ann)\n",
    "    if match:\n",
    "        addendum = match.group(1)\n",
    "        original_report = re.search('(.*?)(?= addendum :)', ann).group(1)\n",
    "    else:\n",
    "        addendum = 'None'\n",
    "        original_report = ann\n",
    "\n",
    "    return original_report, addendum\n",
    "\n",
    "def extract_reporter(ann):\n",
    "    match = re.search('(?<=dictated by)(.*)(?=authorised)', ann)\n",
    "    if match:\n",
    "        reporter = match.group(1)\n",
    "    else:\n",
    "        reporter = 'None'\n",
    "    return reporter\n",
    "\n",
    "def strip_original_report(ann):\n",
    "    '''\n",
    "        Strips the CT Head report from the rest of the information.\n",
    "        If the report is made up of multiple rerpots pertaining to\n",
    "        multiple CTs, and the reports are not split up by which CT\n",
    "        they are refering to, return 'None'\n",
    "    '''\n",
    "    if 'ct head' in ann:\n",
    "        if len(re.findall('ct head', ann)) == 1:\n",
    "            match = re.search('(?<=ct head)(.*)(?=dictated)', ann)\n",
    "            if match:\n",
    "                stripped_report = match.group(1)\n",
    "            else:\n",
    "                stripped_report = 'None'\n",
    "        elif len(re.findall('ct head', ann)) > 1:\n",
    "            match = re.search('(?<=ct head)(.*)(ct head)(.*)(?=cta:)', ann)\n",
    "            if match:\n",
    "                stripped_report = match.group(3)\n",
    "            else:\n",
    "                stripped_report = 'None'\n",
    "    else:\n",
    "        stripped_report = ann\n",
    "    return stripped_report\n",
    "        \n",
    "def strip_addendum(ann):\n",
    "    match = re.search('(.*)(?=dictated)', ann)\n",
    "    if match:\n",
    "        stripped_addendum = match.group(1)\n",
    "    else:\n",
    "        stripped_addendum = 'None'\n",
    "    return stripped_addendum"
   ]
  },
  {
   "cell_type": "code",
   "execution_count": null,
   "metadata": {
    "collapsed": false
   },
   "outputs": [],
   "source": [
    "# test_report = ann_df.iloc[1]['raw_content']\n",
    "# test_report = test_report.lower()\n",
    "# original_report, addendum = extract_addendum(test_report.lower())\n",
    "# print('Test report \\n' + test_report + '\\n')\n",
    "\n",
    "# print('Original report \\n' + original_report + '\\n')\n",
    "# original_reporter = extract_reporter(original_report)\n",
    "# print('Original reporter \\n' + original_reporter + '\\n')\n",
    "# stripped_report = strip_original_report(original_report)\n",
    "# print('Stripped original report \\n' + stripped_report + '\\n')\n",
    "\n",
    "# print('Addendum \\n' + addendum + '\\n')\n",
    "# addendum_reporter = extract_reporter(addendum)\n",
    "# print('Addendum reporter \\n' + addendum_reporter + '\\n')\n",
    "# stripped_addendum = strip_addendum(addendum)\n",
    "# print('Stripped addendum \\n' + stripped_addendum + '\\n')"
   ]
  },
  {
   "cell_type": "code",
   "execution_count": null,
   "metadata": {
    "collapsed": false
   },
   "outputs": [],
   "source": [
    "def filter_content(content):\n",
    "#     # replace punctuation\n",
    "#     for char in ['~', '\"']:\n",
    "#         filt_report = filt_report.replace(char, '')\n",
    "        \n",
    "#     for char in ['!', '?', ';', ':', '.']:\n",
    "#         filt_report = filt_report.replace(char, ' . ')\n",
    "    \n",
    "#     for char in ['(', ')', ',', '/', '\\\\']:\n",
    "#         filt_report = filt_report.replace(char, '')\n",
    "    \n",
    "#     # sentence split\n",
    "#     filt_content = filt_report.split('.')\n",
    "    \n",
    "#     # remove id\n",
    "#     #filt_content = filt_content[1:]\n",
    "#     return filt_content"
   ]
  },
  {
   "cell_type": "code",
   "execution_count": 13,
   "metadata": {
    "collapsed": false
   },
   "outputs": [],
   "source": [
    "ann_df['basic_filt'] = ann_df.apply(lambda row: basic_filt(row['raw_content']), axis=1)\n",
    "ann_df['original_report'] = ann_df.apply(lambda row: extract_addendum(row['basic_filt'])[0], axis=1)\n",
    "ann_df['stripped_original_report'] = ann_df.apply(lambda row: strip_original_report(row['original_report']), axis=1)\n",
    "ann_df['original_reporter'] = ann_df.apply(lambda row: extract_reporter(row['original_report']), axis=1)\n",
    "ann_df['addendum'] = ann_df.apply(lambda row: extract_addendum(row['basic_filt'].lower())[1], axis=1)\n",
    "ann_df['stripped_addendum'] = ann_df.apply(lambda row: strip_addendum(row['addendum']), axis=1)\n",
    "ann_df['addendum_reporter'] = ann_df.apply(lambda row: extract_reporter(row['addendum']), axis=1)"
   ]
  },
  {
   "cell_type": "code",
   "execution_count": 10,
   "metadata": {
    "collapsed": false
   },
   "outputs": [
    {
     "name": "stdout",
     "output_type": "stream",
     "text": [
      "<class 'pandas.core.frame.DataFrame'>\n",
      "RangeIndex: 13 entries, 0 to 12\n",
      "Data columns (total 10 columns):\n",
      "id                          13 non-null object\n",
      "raw_content                 13 non-null object\n",
      "labels                      13 non-null object\n",
      "basic_filt                  13 non-null object\n",
      "original_report             13 non-null object\n",
      "stripped_original_report    13 non-null object\n",
      "original_reporter           13 non-null object\n",
      "addendum                    13 non-null object\n",
      "stripped_addendum           13 non-null object\n",
      "addendum_reporter           13 non-null object\n",
      "dtypes: object(10)\n",
      "memory usage: 1.1+ KB\n"
     ]
    }
   ],
   "source": [
    "ann_df.info()"
   ]
  },
  {
   "cell_type": "code",
   "execution_count": 9,
   "metadata": {
    "collapsed": false
   },
   "outputs": [],
   "source": [
    "ann_df.to_csv('processed_reports.csv')"
   ]
  },
  {
   "cell_type": "code",
   "execution_count": null,
   "metadata": {
    "collapsed": false
   },
   "outputs": [],
   "source": [
    "ann_df.iloc[0]['raw_content'].replace('.', ' . ')"
   ]
  },
  {
   "cell_type": "code",
   "execution_count": null,
   "metadata": {
    "collapsed": true
   },
   "outputs": [],
   "source": []
  },
  {
   "cell_type": "code",
   "execution_count": null,
   "metadata": {
    "collapsed": true
   },
   "outputs": [],
   "source": []
  }
 ],
 "metadata": {
  "kernelspec": {
   "display_name": "Python [conda env:TensorFlowCPU]",
   "language": "python",
   "name": "conda-env-TensorFlowCPU-py"
  },
  "language_info": {
   "codemirror_mode": {
    "name": "ipython",
    "version": 2
   },
   "file_extension": ".py",
   "mimetype": "text/x-python",
   "name": "python",
   "nbconvert_exporter": "python",
   "pygments_lexer": "ipython2",
   "version": "2.7.14"
  }
 },
 "nbformat": 4,
 "nbformat_minor": 2
}
